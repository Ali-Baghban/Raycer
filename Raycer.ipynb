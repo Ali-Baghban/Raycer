{
  "nbformat": 4,
  "nbformat_minor": 0,
  "metadata": {
    "colab": {
      "name": "Raycer.ipynb",
      "provenance": []
    },
    "kernelspec": {
      "name": "python3",
      "display_name": "Python 3"
    },
    "language_info": {
      "name": "python"
    }
  },
  "cells": [
    {
      "cell_type": "code",
      "execution_count": 1,
      "metadata": {
        "id": "x8oKHqnib3jd"
      },
      "outputs": [],
      "source": [
        "#!pip install ray\n",
        "#!pip install modin[ray] "
      ]
    },
    {
      "cell_type": "markdown",
      "source": [
        "**Import libs**"
      ],
      "metadata": {
        "id": "0tqX_qwDcXFL"
      }
    },
    {
      "cell_type": "code",
      "source": [
        "import pandas as pd\n",
        "import ray\n",
        "import operator\n",
        "from sklearn.metrics import accuracy_score\n",
        "from sklearn.model_selection import KFold\n",
        "from google.colab import files\n"
      ],
      "metadata": {
        "id": "_cz0n6yacboj"
      },
      "execution_count": 2,
      "outputs": []
    },
    {
      "cell_type": "markdown",
      "source": [
        "**Loading Dataset and Partitioning**"
      ],
      "metadata": {
        "id": "QOqi_HLWdvvH"
      }
    },
    {
      "cell_type": "code",
      "source": [
        "uploaded = files.upload()"
      ],
      "metadata": {
        "colab": {
          "resources": {
            "http://localhost:8080/nbextensions/google.colab/files.js": {
              "data": "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",
              "ok": true,
              "headers": [
                [
                  "content-type",
                  "application/javascript"
                ]
              ],
              "status": 200,
              "status_text": ""
            }
          },
          "base_uri": "https://localhost:8080/",
          "height": 74
        },
        "id": "-_u-eaexfQ85",
        "outputId": "ef648bea-cdd5-4e9c-eada-cf67d44cdb6b"
      },
      "execution_count": 3,
      "outputs": [
        {
          "output_type": "display_data",
          "data": {
            "text/plain": [
              "<IPython.core.display.HTML object>"
            ],
            "text/html": [
              "\n",
              "     <input type=\"file\" id=\"files-e0505923-8bdf-42ee-8a60-9f831499e1d4\" name=\"files[]\" multiple disabled\n",
              "        style=\"border:none\" />\n",
              "     <output id=\"result-e0505923-8bdf-42ee-8a60-9f831499e1d4\">\n",
              "      Upload widget is only available when the cell has been executed in the\n",
              "      current browser session. Please rerun this cell to enable.\n",
              "      </output>\n",
              "      <script src=\"/nbextensions/google.colab/files.js\"></script> "
            ]
          },
          "metadata": {}
        },
        {
          "output_type": "stream",
          "name": "stdout",
          "text": [
            "Saving data.data to data (1).data\n"
          ]
        }
      ]
    },
    {
      "cell_type": "code",
      "source": [
        "l = int(input(\"# of Dataset records = \"))\n",
        "n = int(input(\"Number of Partitions = \"))\n",
        "s = int(l/n)\n",
        "#=================================================\n",
        "\n",
        "#=================================================\n",
        "dataset = []\n",
        "for i,chunk in enumerate(pd.read_csv('/content/data.data' , chunksize=s)):\n",
        "  dataset.append(chunk.astype('category'))\n",
        "#print(dataset[2].info())\n",
        "X,Y = [],[]\n",
        "for i in range(s):\n",
        "  X.append(dataset[0].iloc[:,0:6])\n",
        "  Y.append(dataset[0].iloc[:,6:76])"
      ],
      "metadata": {
        "colab": {
          "base_uri": "https://localhost:8080/"
        },
        "id": "XzGNA4Kpd6pV",
        "outputId": "d02962e4-c8a8-49ee-9fc2-8dd84b1c238b"
      },
      "execution_count": 4,
      "outputs": [
        {
          "name": "stdout",
          "output_type": "stream",
          "text": [
            "# of Dataset records = 1728\n",
            "Number of Partitions = 5\n"
          ]
        }
      ]
    },
    {
      "cell_type": "code",
      "source": [
        "#kf = KFold(n_splits=10, random_state=1, shuffle=True)\n",
        "#X_train, X_test, Y_train, Y_test = [],[],[],[]\n",
        "#for i in range(s):\n",
        "#  for train_index, test_index in kf.split(X[i]):\n",
        "#     X_train, X_test = X[i][train_index], X[i][test_index]\n",
        "#     y_train, y_test = Y[i][train_index], Y[i][test_index]"
      ],
      "metadata": {
        "id": "JeUw6JJQKotz"
      },
      "execution_count": 5,
      "outputs": []
    },
    {
      "cell_type": "code",
      "source": [
        "#====================================================\n",
        "ray.init()"
      ],
      "metadata": {
        "colab": {
          "base_uri": "https://localhost:8080/"
        },
        "id": "XOEqb5SvqI-1",
        "outputId": "168fdb25-e908-4be9-d627-83ad921f91f5"
      },
      "execution_count": 6,
      "outputs": [
        {
          "output_type": "execute_result",
          "data": {
            "text/plain": [
              "RayContext(dashboard_url='', python_version='3.7.13', ray_version='1.13.0', ray_commit='e4ce38d001dbbe09cd21c497fedd03d692b2be3e', address_info={'node_ip_address': '172.28.0.2', 'raylet_ip_address': '172.28.0.2', 'redis_address': None, 'object_store_address': '/tmp/ray/session_2022-06-27_15-00-30_848012_1416/sockets/plasma_store', 'raylet_socket_name': '/tmp/ray/session_2022-06-27_15-00-30_848012_1416/sockets/raylet', 'webui_url': '', 'session_dir': '/tmp/ray/session_2022-06-27_15-00-30_848012_1416', 'metrics_export_port': 34650, 'gcs_address': '172.28.0.2:59629', 'address': '172.28.0.2:59629', 'node_id': 'c6d6c951c3d9b7eed52c1edf6da0c007e1896b9b8fbf3591787b0d0e'})"
            ]
          },
          "metadata": {},
          "execution_count": 6
        }
      ]
    },
    {
      "cell_type": "markdown",
      "source": [
        "**Define Ray classes and remotes**"
      ],
      "metadata": {
        "id": "qc3qavMocoyj"
      }
    },
    {
      "cell_type": "code",
      "source": [
        "@ray.remote\n",
        "class Racer(object):\n",
        "\n",
        "  rules = {}\n",
        "  final_rules = {}\n",
        "  columns = {}\n",
        "  classes = []\n",
        "\n",
        "  # Fitness Value = alpha * accuracy + beta * coverage\n",
        "  # accuracy coef : accuracy is the percent of covered instances which are correctly classified \n",
        "  # coverage coef : coverage is the percent of instances which are covered among the training set\n",
        "\n",
        "\n",
        "  rules_size = 0\n",
        "  d_size = 0\n",
        "  X = None\n",
        "  Y = None\n",
        "  def __init__(self, alpha, beta,X,Y):  # initialize valiables\n",
        "    self.alpha = alpha\n",
        "    self.beta = beta\n",
        "    self.rules = {}\n",
        "    self.final_rules = {}\n",
        "    self.columns = {}\n",
        "    self.classes = []\n",
        "    self.X = X\n",
        "    self.Y = Y\n",
        "    self.rules_size = 0\n",
        "    self.d_size = 0\n",
        "  \n",
        "  def fit(self):\n",
        "    X = self.X\n",
        "    Y = self.Y\n",
        "    keys = Y.keys()\n",
        "\n",
        "    if Y[keys[0]].dtype.name != \"category\":\n",
        "      raise ValueError(f'Y must be of type \"category\", \"{Y.loc[0].dtype.name}\" given')\n",
        "    for i in Y[keys[0]].cat.categories:\n",
        "      self.classes.append(i)\n",
        "      self.rules[i] = []\n",
        "    \n",
        "    cols = X.columns.copy()\n",
        "    self.d_size = X.shape[0]\n",
        "    for c in cols:\n",
        "      if X[c].dtype.name != \"category\":\n",
        "        raise ValueError(f'All columns must be of type \"category\", \"{X[c].dtype.name}\" given')\n",
        "      self.columns[c] = []\n",
        "      for i in X[c].cat.categories:\n",
        "        self.columns[c].append(i)\n",
        "    \n",
        "    self.X = X.copy()\n",
        "    self.Y = Y.copy()\n",
        "    # self.rules_size += len(self.classes)\n",
        "    for key in self.columns:\n",
        "      self.rules_size += len(self.columns[key])\n",
        "\n",
        "    self.convert_rules()\n",
        "\n",
        "    self.proccess_rules()\n",
        "\n",
        "\n",
        "  \n",
        "  def proccess_rules(self):\n",
        "    for c in self.classes:\n",
        "      extant_rules = self.rules[c].copy()\n",
        "      extant_rules = [[i,0] for i in extant_rules]\n",
        "      for i in range(len(extant_rules)):\n",
        "        for j in range(i+1, len(extant_rules)):\n",
        "          if extant_rules[i][1] == 0 and extant_rules[j][1] == 0:\n",
        "            composed_rule = self.composition(extant_rules[i][0], extant_rules[j][0])\n",
        "            if self.fitness(composed_rule, c) > self.fitness(extant_rules[i][0], c) and self.fitness(composed_rule, c) > self.fitness(extant_rules[j][0], c):\n",
        "              extant_rules[i][0] = composed_rule\n",
        "              extant_rules[j][1] = 1\n",
        "              for x in range(len(extant_rules)):\n",
        "                if x != i and self.rule_covers(composed_rule, extant_rules[x][0]):\n",
        "                  extant_rules[x][1] = 1\n",
        "      \n",
        "      for i in range(len(extant_rules)):\n",
        "        if extant_rules[i][1] == 0:\n",
        "          extant_rules[i][0] = self.generalize(extant_rules[i][0], c)\n",
        "      \n",
        "      final = sorted(extant_rules, key=lambda x: self.fitness(x[0], c), reverse=True)\n",
        "      self.final_rules[c] = [[i[0], self.fitness(i[0], c)] for i in final if i[1] == 0]\n",
        "      # self.final_rules[c] = final.copy()\n",
        "\n",
        "  \n",
        "  def predict(self, X):\n",
        "    cols = X.columns.copy()\n",
        "    Y = []\n",
        "    for c in cols:\n",
        "      if X[c].dtype.name != \"category\":\n",
        "        raise ValueError(f'All columns must be of type \"category\", \"{X[c].dtype.name}\" given')\n",
        "    \n",
        "    for i in range(X.shape[0]):\n",
        "      rule = self.generate_rule(X.iloc[i])\n",
        "      rules = []\n",
        "      for c in self.classes:\n",
        "        for j in range(len(self.final_rules[c])):\n",
        "          if self.rule_covers(self.final_rules[c][j][0], rule):\n",
        "            rules.append([c, self.final_rules[c][j][1], j])\n",
        "      rules.sort(key=operator.itemgetter(1, 2), reverse=True)\n",
        "      if len(rules)==0:\n",
        "        Y.append(-1)\n",
        "        continue\n",
        "      Y.append(rules[0][0])\n",
        "    \n",
        "    return Y\n",
        "\n",
        "    \n",
        "  def generalize(self, rule, c):\n",
        "    for i in range(len(rule)):\n",
        "      if rule[i] == 0:\n",
        "        new_rule = rule\n",
        "        new_rule[i] = 1\n",
        "        if self.fitness(new_rule, c) > self.fitness(rule, c):\n",
        "          rule = new_rule\n",
        "    return rule\n",
        "\n",
        "  def composition(self, rule1, rule2):\n",
        "    result = \"\"\n",
        "    for i in range(self.rules_size):\n",
        "      if rule1[i] == \"1\" or rule2[i] == \"1\":\n",
        "        result += \"1\"\n",
        "      else:\n",
        "        result += \"0\"\n",
        "    \n",
        "    return result\n",
        "  \n",
        "  def fitness(self, rule, cls):\n",
        "    return self.alpha * self.accuracy(rule, cls) + self.beta * self.coverage(rule)\n",
        "  \n",
        "  def accuracy(self, rule, cls):\n",
        "    return self.n_correct(rule, cls) / self.n_covers(rule)\n",
        "  \n",
        "  def coverage(self, rule):\n",
        "    return self.n_covers(rule) / self.d_size\n",
        "\n",
        "  def n_correct(self, rule1, cls):\n",
        "    num = 0\n",
        "    for rule in self.rules[cls]:\n",
        "      correct = True\n",
        "      for i in range(self.rules_size):\n",
        "        if rule1[i] != rule[i] and rule1[i] == \"0\":\n",
        "          correct = False\n",
        "      if correct:\n",
        "        num += 1\n",
        "    \n",
        "    return num\n",
        "\n",
        "  def n_covers(self, rule1):\n",
        "    num = 0\n",
        "    for cls in self.classes:\n",
        "      for rule in self.rules[cls]:\n",
        "        correct = True\n",
        "        for i in range(self.rules_size):\n",
        "          if rule1[i] != rule[i] and rule1[i] == \"0\":\n",
        "            correct = False\n",
        "        if correct:\n",
        "          num += 1\n",
        "    \n",
        "    return num\n",
        "\n",
        "\n",
        "  def rule_covers(self, rule1, rule2):\n",
        "    for i in range(self.rules_size):\n",
        "      if rule2[i] == \"1\" and rule1[i] == \"0\":\n",
        "        return False\n",
        "    return True\n",
        "\n",
        "\n",
        "  def convert_rules(self):\n",
        "    for i in range(self.X.shape[0]):\n",
        "      self.generate_rules(self.X.iloc[i], self.Y.iloc[i])\n",
        "\n",
        "  def generate_rule(self, input):\n",
        "    rule = \"\"\n",
        "    for key in self.columns:\n",
        "      sub_rule = \"\"\n",
        "      for i in self.columns[key]:\n",
        "        if i == input[key]:\n",
        "          sub_rule += \"1\"\n",
        "        else:\n",
        "          sub_rule += \"0\"\n",
        "      rule += sub_rule\n",
        "    return rule\n",
        "  \n",
        "  def generate_rules(self, input, output):\n",
        "    rule = \"\"\n",
        "    for key in self.columns:\n",
        "      sub_rule = \"\"\n",
        "      for i in self.columns[key]:\n",
        "        if i == input[key]:\n",
        "          sub_rule += \"1\"\n",
        "        else:\n",
        "          sub_rule += \"0\"\n",
        "      rule += sub_rule\n",
        "    rule_class = None\n",
        "    for i in self.classes:\n",
        "      if (i == output).bool():\n",
        "        rule_class = i\n",
        "\n",
        "    \n",
        "    #self.rules[rule_class].append(rule)\n",
        "    self.rules[rule_class].append(rule+'->'+str(rule_class))\n",
        "\n",
        "  def get_final_rules(self):\n",
        "    return self.final_rules\n",
        "\n"
      ],
      "metadata": {
        "id": "_SoY79ECdLtB"
      },
      "execution_count": 7,
      "outputs": []
    },
    {
      "cell_type": "code",
      "source": [
        "#====================================================\n",
        "machines = [Racer.remote(alpha=0.7,beta=0.3,X=X[i],Y=Y[i]) for i in range(5)]\n",
        "machines"
      ],
      "metadata": {
        "colab": {
          "base_uri": "https://localhost:8080/"
        },
        "id": "6t-6Ae_hoJdN",
        "outputId": "18ae8ef8-fc9e-40a0-e427-bfa4029920e6"
      },
      "execution_count": 8,
      "outputs": [
        {
          "output_type": "execute_result",
          "data": {
            "text/plain": [
              "[Actor(Racer, c313ebce9b9967ce90470b8501000000),\n",
              " Actor(Racer, c5a387fb9630c46bf706c31701000000),\n",
              " Actor(Racer, e2706e07bf136d91482421ce01000000),\n",
              " Actor(Racer, fb6aa99f2a5ae77a5a4c49ac01000000),\n",
              " Actor(Racer, 41e2362bab5b2d7dc9f7ed6e01000000)]"
            ]
          },
          "metadata": {},
          "execution_count": 8
        }
      ]
    },
    {
      "cell_type": "markdown",
      "source": [
        "**Call fit function**"
      ],
      "metadata": {
        "id": "__Qz_RobhfeR"
      }
    },
    {
      "cell_type": "code",
      "source": [
        "ray.get([m.fit.remote() for i,m in enumerate(machines)])"
      ],
      "metadata": {
        "colab": {
          "base_uri": "https://localhost:8080/"
        },
        "id": "HgpOT8R-QLyK",
        "outputId": "756bc452-a071-486d-deec-61ef67687d77"
      },
      "execution_count": 9,
      "outputs": [
        {
          "output_type": "execute_result",
          "data": {
            "text/plain": [
              "[None, None, None, None, None]"
            ]
          },
          "metadata": {},
          "execution_count": 9
        }
      ]
    },
    {
      "cell_type": "code",
      "source": [
        "rules = ray.get([m.get_final_rules.remote() for m in machines])\n",
        "rules"
      ],
      "metadata": {
        "colab": {
          "base_uri": "https://localhost:8080/"
        },
        "id": "vjfjY87ggipy",
        "outputId": "e66c24a1-c7f5-4d5f-8ef6-db2726ac47af"
      },
      "execution_count": 10,
      "outputs": [
        {
          "output_type": "execute_result",
          "data": {
            "text/plain": [
              "[{'acc': [['101101111011100101', 0.7156521739130435],\n",
              "   ['101101111010111100', 0.7130434782608696],\n",
              "   ['100101111001010100', 0.7034782608695652],\n",
              "   ['100100111001001100', 0.7026086956521739],\n",
              "   ['100100111001010001', 0.7026086956521739],\n",
              "   ['100100011010010001', 0.7017391304347825]],\n",
              "  'unacc': [['111111111111111111', 0.9188405797101449]]},\n",
              " {'acc': [['101101111011100101', 0.7156521739130435],\n",
              "   ['101101111010111100', 0.7130434782608696],\n",
              "   ['100101111001010100', 0.7034782608695652],\n",
              "   ['100100111001001100', 0.7026086956521739],\n",
              "   ['100100111001010001', 0.7026086956521739],\n",
              "   ['100100011010010001', 0.7017391304347825]],\n",
              "  'unacc': [['111111111111111111', 0.9188405797101449]]},\n",
              " {'acc': [['101101111011100101', 0.7156521739130435],\n",
              "   ['101101111010111100', 0.7130434782608696],\n",
              "   ['100101111001010100', 0.7034782608695652],\n",
              "   ['100100111001001100', 0.7026086956521739],\n",
              "   ['100100111001010001', 0.7026086956521739],\n",
              "   ['100100011010010001', 0.7017391304347825]],\n",
              "  'unacc': [['111111111111111111', 0.9188405797101449]]},\n",
              " {'acc': [['101101111011100101', 0.7156521739130435],\n",
              "   ['101101111010111100', 0.7130434782608696],\n",
              "   ['100101111001010100', 0.7034782608695652],\n",
              "   ['100100111001001100', 0.7026086956521739],\n",
              "   ['100100111001010001', 0.7026086956521739],\n",
              "   ['100100011010010001', 0.7017391304347825]],\n",
              "  'unacc': [['111111111111111111', 0.9188405797101449]]},\n",
              " {'acc': [['101101111011100101', 0.7156521739130435],\n",
              "   ['101101111010111100', 0.7130434782608696],\n",
              "   ['100101111001010100', 0.7034782608695652],\n",
              "   ['100100111001001100', 0.7026086956521739],\n",
              "   ['100100111001010001', 0.7026086956521739],\n",
              "   ['100100011010010001', 0.7017391304347825]],\n",
              "  'unacc': [['111111111111111111', 0.9188405797101449]]}]"
            ]
          },
          "metadata": {},
          "execution_count": 10
        }
      ]
    }
  ]
}