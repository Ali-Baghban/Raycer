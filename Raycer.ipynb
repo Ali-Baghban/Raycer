{
  "nbformat": 4,
  "nbformat_minor": 0,
  "metadata": {
    "colab": {
      "name": "Raycer.ipynb",
      "provenance": [],
      "collapsed_sections": []
    },
    "kernelspec": {
      "name": "python3",
      "display_name": "Python 3"
    },
    "language_info": {
      "name": "python"
    }
  },
  "cells": [
    {
      "cell_type": "code",
      "execution_count": 1,
      "metadata": {
        "id": "x8oKHqnib3jd",
        "colab": {
          "base_uri": "https://localhost:8080/"
        },
        "outputId": "a5f2d227-1b96-4ea3-b58a-fafdb2576b01"
      },
      "outputs": [
        {
          "output_type": "stream",
          "name": "stdout",
          "text": [
            "Looking in indexes: https://pypi.org/simple, https://us-python.pkg.dev/colab-wheels/public/simple/\n",
            "Requirement already satisfied: ray in /usr/local/lib/python3.7/dist-packages (1.13.0)\n",
            "Requirement already satisfied: aiosignal in /usr/local/lib/python3.7/dist-packages (from ray) (1.2.0)\n",
            "Requirement already satisfied: filelock in /usr/local/lib/python3.7/dist-packages (from ray) (3.7.1)\n",
            "Requirement already satisfied: msgpack<2.0.0,>=1.0.0 in /usr/local/lib/python3.7/dist-packages (from ray) (1.0.4)\n",
            "Requirement already satisfied: requests in /usr/local/lib/python3.7/dist-packages (from ray) (2.23.0)\n",
            "Requirement already satisfied: click<=8.0.4,>=7.0 in /usr/local/lib/python3.7/dist-packages (from ray) (7.1.2)\n",
            "Requirement already satisfied: numpy>=1.16 in /usr/local/lib/python3.7/dist-packages (from ray) (1.21.6)\n",
            "Requirement already satisfied: protobuf<4.0.0,>=3.15.3 in /usr/local/lib/python3.7/dist-packages (from ray) (3.17.3)\n",
            "Requirement already satisfied: pyyaml in /usr/local/lib/python3.7/dist-packages (from ray) (3.13)\n",
            "Requirement already satisfied: grpcio<=1.43.0,>=1.28.1 in /usr/local/lib/python3.7/dist-packages (from ray) (1.43.0)\n",
            "Requirement already satisfied: attrs in /usr/local/lib/python3.7/dist-packages (from ray) (21.4.0)\n",
            "Requirement already satisfied: virtualenv in /usr/local/lib/python3.7/dist-packages (from ray) (20.15.1)\n",
            "Requirement already satisfied: frozenlist in /usr/local/lib/python3.7/dist-packages (from ray) (1.3.0)\n",
            "Requirement already satisfied: jsonschema in /usr/local/lib/python3.7/dist-packages (from ray) (4.3.3)\n",
            "Requirement already satisfied: six>=1.5.2 in /usr/local/lib/python3.7/dist-packages (from grpcio<=1.43.0,>=1.28.1->ray) (1.15.0)\n",
            "Requirement already satisfied: typing-extensions in /usr/local/lib/python3.7/dist-packages (from jsonschema->ray) (4.1.1)\n",
            "Requirement already satisfied: importlib-resources>=1.4.0 in /usr/local/lib/python3.7/dist-packages (from jsonschema->ray) (5.7.1)\n",
            "Requirement already satisfied: importlib-metadata in /usr/local/lib/python3.7/dist-packages (from jsonschema->ray) (4.11.4)\n",
            "Requirement already satisfied: pyrsistent!=0.17.0,!=0.17.1,!=0.17.2,>=0.14.0 in /usr/local/lib/python3.7/dist-packages (from jsonschema->ray) (0.18.1)\n",
            "Requirement already satisfied: zipp>=3.1.0 in /usr/local/lib/python3.7/dist-packages (from importlib-resources>=1.4.0->jsonschema->ray) (3.8.0)\n",
            "Requirement already satisfied: chardet<4,>=3.0.2 in /usr/local/lib/python3.7/dist-packages (from requests->ray) (3.0.4)\n",
            "Requirement already satisfied: urllib3!=1.25.0,!=1.25.1,<1.26,>=1.21.1 in /usr/local/lib/python3.7/dist-packages (from requests->ray) (1.24.3)\n",
            "Requirement already satisfied: idna<3,>=2.5 in /usr/local/lib/python3.7/dist-packages (from requests->ray) (2.10)\n",
            "Requirement already satisfied: certifi>=2017.4.17 in /usr/local/lib/python3.7/dist-packages (from requests->ray) (2022.6.15)\n",
            "Requirement already satisfied: distlib<1,>=0.3.1 in /usr/local/lib/python3.7/dist-packages (from virtualenv->ray) (0.3.4)\n",
            "Requirement already satisfied: platformdirs<3,>=2 in /usr/local/lib/python3.7/dist-packages (from virtualenv->ray) (2.5.2)\n"
          ]
        }
      ],
      "source": [
        "!pip install ray\n",
        "#!pip install modin[ray] "
      ]
    },
    {
      "cell_type": "markdown",
      "source": [
        "**Import libs**"
      ],
      "metadata": {
        "id": "0tqX_qwDcXFL"
      }
    },
    {
      "cell_type": "code",
      "source": [
        "import pandas as pd\n",
        "import ray\n",
        "import operator\n",
        "from sklearn.metrics import accuracy_score\n",
        "from sklearn.model_selection import KFold\n",
        "from google.colab import files\n",
        "from sklearn.utils import shuffle\n",
        "from sklearn.metrics import accuracy_score\n",
        "import time"
      ],
      "metadata": {
        "id": "_cz0n6yacboj"
      },
      "execution_count": 2,
      "outputs": []
    },
    {
      "cell_type": "markdown",
      "source": [
        "**Loading Dataset and Partitioning**"
      ],
      "metadata": {
        "id": "QOqi_HLWdvvH"
      }
    },
    {
      "cell_type": "code",
      "source": [
        "uploaded = files.upload()"
      ],
      "metadata": {
        "colab": {
          "resources": {
            "http://localhost:8080/nbextensions/google.colab/files.js": {
              "data": "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",
              "ok": true,
              "headers": [
                [
                  "content-type",
                  "application/javascript"
                ]
              ],
              "status": 200,
              "status_text": ""
            }
          },
          "base_uri": "https://localhost:8080/",
          "height": 74
        },
        "id": "-_u-eaexfQ85",
        "outputId": "f4a332e5-f49e-43d6-d79d-acd44c4b6cc1"
      },
      "execution_count": 3,
      "outputs": [
        {
          "output_type": "display_data",
          "data": {
            "text/plain": [
              "<IPython.core.display.HTML object>"
            ],
            "text/html": [
              "\n",
              "     <input type=\"file\" id=\"files-5bed58d3-53be-4559-8746-b0f17e54a3fb\" name=\"files[]\" multiple disabled\n",
              "        style=\"border:none\" />\n",
              "     <output id=\"result-5bed58d3-53be-4559-8746-b0f17e54a3fb\">\n",
              "      Upload widget is only available when the cell has been executed in the\n",
              "      current browser session. Please rerun this cell to enable.\n",
              "      </output>\n",
              "      <script src=\"/nbextensions/google.colab/files.js\"></script> "
            ]
          },
          "metadata": {}
        },
        {
          "output_type": "stream",
          "name": "stdout",
          "text": [
            "Saving car.data to car (1).data\n"
          ]
        }
      ]
    },
    {
      "cell_type": "code",
      "source": [
        "n = int(input(\"Number of Partitions = \"))\n",
        "df = pd.read_csv('/content/car.data')\n",
        "shuffled = df.sample(frac=1,random_state=1).reset_index()\n",
        "shuffled.to_csv('shuffled.data')\n",
        "shuffled_ten = df.sample(frac=0.1).reset_index()\n",
        "shuffled_ten.to_csv('shuffled_ten.data')\n",
        "#=================================================\n",
        "split_size  = int(len(df)/n)\n",
        "#=================================================\n",
        "dataset = []\n",
        "for i,chunk in enumerate(pd.read_csv('/content/shuffled.data' , chunksize=split_size)):\n",
        "  dataset.append(chunk.astype('category'))\n",
        "\n",
        "X,Y = [],[]\n",
        "\n",
        "for i in range(n):\n",
        "  X.append(dataset[i].iloc[:,2:shuffled.shape[1]])\n",
        "  Y.append(dataset[i].iloc[:,shuffled.shape[1]:shuffled.shape[1]+1])\n",
        "\n",
        "X_ten, Y_ten = shuffled_ten.iloc[:,1:shuffled.shape[1]-1].astype('category'), shuffled_ten.iloc[:,shuffled.shape[1]-1:shuffled.shape[1]].astype('category')\n",
        "\n",
        "X_all, Y_all = shuffled.iloc[:,1:shuffled.shape[1]-1].astype('category'), shuffled.iloc[:,shuffled.shape[1]-1:shuffled.shape[1]].astype('category')"
      ],
      "metadata": {
        "colab": {
          "base_uri": "https://localhost:8080/"
        },
        "id": "XzGNA4Kpd6pV",
        "outputId": "96896854-6c3e-4d2e-fdbc-64a3b7355030"
      },
      "execution_count": 4,
      "outputs": [
        {
          "name": "stdout",
          "output_type": "stream",
          "text": [
            "Number of Partitions = 4\n"
          ]
        }
      ]
    },
    {
      "cell_type": "code",
      "source": [
        ""
      ],
      "metadata": {
        "id": "AQKCeFF8vJtz"
      },
      "execution_count": 4,
      "outputs": []
    },
    {
      "cell_type": "code",
      "source": [
        "#kf = KFold(n_splits=10, random_state=1, shuffle=True)\n",
        "#X_train, X_test, Y_train, Y_test = [],[],[],[]\n",
        "#for i in range(s):\n",
        "#  for train_index, test_index in kf.split(X[i]):\n",
        "#     X_train, X_test = X[i][train_index], X[i][test_index]\n",
        "#     y_train, y_test = Y[i][train_index], Y[i][test_index]"
      ],
      "metadata": {
        "id": "JeUw6JJQKotz"
      },
      "execution_count": 5,
      "outputs": []
    },
    {
      "cell_type": "code",
      "source": [
        "#====================================================\n",
        "#ray.init()"
      ],
      "metadata": {
        "id": "XOEqb5SvqI-1"
      },
      "execution_count": 6,
      "outputs": []
    },
    {
      "cell_type": "markdown",
      "source": [
        "**Traditional Racer**"
      ],
      "metadata": {
        "id": "J1KO637coG6a"
      }
    },
    {
      "cell_type": "code",
      "source": [
        "class Racer():\n",
        "  \n",
        "  rules = {}\n",
        "  final_rules = {}\n",
        "  columns = {}\n",
        "  classes = []\n",
        "\n",
        "  # Fitness Value = alpha * accuracy + beta * coverage\n",
        "  # accuracy coef : accuracy is the percent of covered instances which are correctly classified \n",
        "  # coverage coef : coverage is the percent of instances which are covered among the training set\n",
        "  alpha = 0.5   \n",
        "  beta = 0.5  \n",
        "\n",
        "  rules_size = 0\n",
        "  d_size = 0\n",
        "  X = None\n",
        "  Y = None\n",
        "  def __init__(self, alpha, beta):  # initialize valiables\n",
        "    self.alpha = alpha\n",
        "    self.beta = beta\n",
        "    self.rules = {}\n",
        "    self.final_rules = {}\n",
        "    self.columns = {}\n",
        "    self.classes = []\n",
        "    self.rules_size = 0\n",
        "    self.d_size = 0\n",
        "    \n",
        "  \n",
        "  def fit(self,X,Y):  \n",
        "    \n",
        "    keys = Y.keys()\n",
        "    \n",
        "    if Y[keys[0]].dtype.name != \"category\":\n",
        "      raise ValueError(f'Y must be of type \"category\", \"{Y.loc[0].dtype.name}\" given')\n",
        "    for i in Y[keys[0]].cat.categories:\n",
        "      self.classes.append(i)\n",
        "      self.rules[i] = []\n",
        "    \n",
        "    cols = X.columns.copy()\n",
        "    self.d_size = X.shape[0]\n",
        "    for c in cols:\n",
        "      if X[c].dtype.name != \"category\":\n",
        "        raise ValueError(f'All columns must be of type \"category\", \"{X[c].dtype.name}\" given')\n",
        "      self.columns[c] = []\n",
        "      for i in X[c].cat.categories:\n",
        "        self.columns[c].append(i)\n",
        "    \n",
        "    self.X = X.copy()\n",
        "    self.Y = Y.copy()\n",
        "    # self.rules_size += len(self.classes)\n",
        "    for key in self.columns:\n",
        "      self.rules_size += len(self.columns[key])\n",
        "\n",
        "    self.convert_rules()\n",
        "\n",
        "    self.proccess_rules()\n",
        "\n",
        "\n",
        "  \n",
        "  def proccess_rules(self):\n",
        "    for c in self.classes:\n",
        "      extant_rules = self.rules[c].copy()\n",
        "      extant_rules = [[i,0] for i in extant_rules]\n",
        "      for i in range(len(extant_rules)):\n",
        "        for j in range(i+1, len(extant_rules)):\n",
        "          if extant_rules[i][1] == 0 and extant_rules[j][1] == 0:\n",
        "            composed_rule = self.composition(extant_rules[i][0], extant_rules[j][0])\n",
        "            if self.fitness(composed_rule, c) > self.fitness(extant_rules[i][0], c) and self.fitness(composed_rule, c) > self.fitness(extant_rules[j][0], c):\n",
        "              extant_rules[i][0] = composed_rule\n",
        "              extant_rules[j][1] = 1\n",
        "              for x in range(len(extant_rules)):\n",
        "                if x != i and self.rule_covers(composed_rule, extant_rules[x][0]):\n",
        "                  extant_rules[x][1] = 1\n",
        "      \n",
        "      for i in range(len(extant_rules)):\n",
        "        if extant_rules[i][1] == 0:\n",
        "          extant_rules[i][0] = self.generalize(extant_rules[i][0], c)\n",
        "      \n",
        "      final = sorted(extant_rules, key=lambda x: self.fitness(x[0], c), reverse=True)\n",
        "      self.final_rules[c] = [[i[0], self.fitness(i[0], c)] for i in final if i[1] == 0]\n",
        "      # self.final_rules[c] = final.copy()\n",
        "\n",
        "  \n",
        "  def predict(self, X):\n",
        "    cols = X.columns.copy()\n",
        "    Y = []\n",
        "    for c in cols:\n",
        "      if X[c].dtype.name != \"category\":\n",
        "        raise ValueError(f'All columns must be of type \"category\", \"{X[c].dtype.name}\" given')\n",
        "    \n",
        "    for i in range(X.shape[0]):\n",
        "      rule = self.generate_rule(X.iloc[i])\n",
        "      rules = []\n",
        "      for c in self.classes:\n",
        "        for j in range(len(self.final_rules[c])):\n",
        "          if self.rule_covers(self.final_rules[c][j][0], rule):\n",
        "            rules.append([c, self.final_rules[c][j][1], j])\n",
        "      rules.sort(key=operator.itemgetter(1, 2), reverse=True)\n",
        "      if len(rules)==0:\n",
        "        Y.append(-1)\n",
        "        continue\n",
        "      Y.append(rules[0][0])\n",
        "    \n",
        "    return Y\n",
        "\n",
        "    \n",
        "  def generalize(self, rule, c):\n",
        "    for i in range(len(rule)):\n",
        "      if rule[i] == 0:\n",
        "        new_rule = rule\n",
        "        new_rule[i] = 1\n",
        "        if self.fitness(new_rule, c) > self.fitness(rule, c):\n",
        "          rule = new_rule\n",
        "    return rule\n",
        "\n",
        "  def composition(self, rule1, rule2):\n",
        "    result = \"\"\n",
        "    for i in range(self.rules_size):\n",
        "      if rule1[i] == \"1\" or rule2[i] == \"1\":\n",
        "        result += \"1\"\n",
        "      else:\n",
        "        result += \"0\"\n",
        "    \n",
        "    return result\n",
        "  \n",
        "  def fitness(self, rule, cls):\n",
        "    return self.alpha * self.accuracy(rule, cls) + self.beta * self.coverage(rule)\n",
        "  \n",
        "  def accuracy(self, rule, cls):\n",
        "    return self.n_correct(rule, cls) / self.n_covers(rule)\n",
        "  \n",
        "  def coverage(self, rule):\n",
        "    return self.n_covers(rule) / self.d_size\n",
        "\n",
        "  def n_correct(self, rule1, cls):\n",
        "    num = 0\n",
        "    for rule in self.rules[cls]:\n",
        "      correct = True\n",
        "      for i in range(self.rules_size):\n",
        "        if rule1[i] != rule[i] and rule1[i] == \"0\":\n",
        "          correct = False\n",
        "      if correct:\n",
        "        num += 1\n",
        "    \n",
        "    return num\n",
        "\n",
        "  def n_covers(self, rule1):\n",
        "    num = 0\n",
        "    for cls in self.classes:\n",
        "      for rule in self.rules[cls]:\n",
        "        correct = True\n",
        "        for i in range(self.rules_size):\n",
        "          if rule1[i] != rule[i] and rule1[i] == \"0\":\n",
        "            correct = False\n",
        "        if correct:\n",
        "          num += 1\n",
        "    \n",
        "    return num\n",
        "\n",
        "\n",
        "  def rule_covers(self, rule1, rule2):\n",
        "    for i in range(self.rules_size):\n",
        "      if rule2[i] == \"1\" and rule1[i] == \"0\":\n",
        "        return False\n",
        "    return True\n",
        "\n",
        "\n",
        "  def convert_rules(self):\n",
        "    for i in range(self.X.shape[0]):\n",
        "      self.generate_rules(self.X.iloc[i], self.Y.iloc[i])\n",
        "\n",
        "  def generate_rule(self, input):\n",
        "    rule = \"\"\n",
        "    for key in self.columns:\n",
        "      sub_rule = \"\"\n",
        "      for i in self.columns[key]:\n",
        "        if i == input[key]:\n",
        "          sub_rule += \"1\"\n",
        "        else:\n",
        "          sub_rule += \"0\"\n",
        "      rule += sub_rule\n",
        "    return rule\n",
        "  \n",
        "  def generate_rules(self, input, output):\n",
        "    rule = \"\"\n",
        "    for key in self.columns:\n",
        "      sub_rule = \"\"\n",
        "      for i in self.columns[key]:\n",
        "        if i == input[key]:\n",
        "          sub_rule += \"1\"\n",
        "        else:\n",
        "          sub_rule += \"0\"\n",
        "      rule += sub_rule\n",
        "    rule_class = None\n",
        "    for i in self.classes:\n",
        "      if (i == output).bool():\n",
        "        rule_class = i\n",
        "\n",
        "    \n",
        "    #self.rules[rule_class].append(rule)\n",
        "    self.rules[rule_class].append(rule)\n",
        "  def get_final_rules(self):\n",
        "    return self.final_rules"
      ],
      "metadata": {
        "id": "FPrqTRr6oGQi"
      },
      "execution_count": 7,
      "outputs": []
    },
    {
      "cell_type": "code",
      "source": [
        "Tracer = Racer(alpha=0.7,beta=0.3)\n",
        "Tracer.fit(X_ten,Y_ten)\n",
        "rules_ten = Tracer.get_final_rules()\n",
        "#rules_ten"
      ],
      "metadata": {
        "id": "EBr5bnxHoiTM"
      },
      "execution_count": 8,
      "outputs": []
    },
    {
      "cell_type": "code",
      "source": [
        "#Tracer.rules"
      ],
      "metadata": {
        "id": "npFFA4nIKbFm"
      },
      "execution_count": 9,
      "outputs": []
    },
    {
      "cell_type": "code",
      "source": [
        "start_time = time.time()\n",
        "Aracer = Racer(alpha=0.7,beta=0.3)\n",
        "Aracer.fit(X_all,Y_all)\n",
        "response_time_traditional = time.time() - start_time"
      ],
      "metadata": {
        "id": "oGFTxGiMpT4K"
      },
      "execution_count": 10,
      "outputs": []
    },
    {
      "cell_type": "markdown",
      "source": [
        "**Define Ray classes and remotes**"
      ],
      "metadata": {
        "id": "qc3qavMocoyj"
      }
    },
    {
      "cell_type": "code",
      "source": [
        "@ray.remote\n",
        "class XRacer():\n",
        "  \n",
        "  rules = {}\n",
        "  final_rules = {}\n",
        "  columns = {}\n",
        "  classes = []\n",
        "\n",
        "  # Fitness Value = alpha * accuracy + beta * coverage\n",
        "  # accuracy coef : accuracy is the percent of covered instances which are correctly classified \n",
        "  # coverage coef : coverage is the percent of instances which are covered among the training set\n",
        "  alpha = 0.5   \n",
        "  beta = 0.5  \n",
        "\n",
        "  rules_size = 0\n",
        "  d_size = 0\n",
        "  X = None\n",
        "  Y = None\n",
        "  def __init__(self, alpha, beta, X, Y ):  # initialize valiables\n",
        "    self.alpha = alpha\n",
        "    self.beta = beta\n",
        "    self.rules = {}\n",
        "    self.final_rules = {}\n",
        "    self.columns = {}\n",
        "    self.classes = []\n",
        "    self.rules_size = 0\n",
        "    self.d_size = 0\n",
        "    self.X = X\n",
        "    self.Y = Y\n",
        "  \n",
        "  def fit(self):  \n",
        "    X = self.X\n",
        "    Y = self.Y\n",
        "    keys = Y.keys()\n",
        "    \n",
        "    if Y[keys[0]].dtype.name != \"category\":\n",
        "      raise ValueError(f'Y must be of type \"category\", \"{Y.loc[0].dtype.name}\" given')\n",
        "    for i in Y[keys[0]].cat.categories:\n",
        "      self.classes.append(i)\n",
        "      self.rules[i] = []\n",
        "    \n",
        "    cols = X.columns.copy()\n",
        "    self.d_size = X.shape[0]\n",
        "    for c in cols:\n",
        "      if X[c].dtype.name != \"category\":\n",
        "        raise ValueError(f'All columns must be of type \"category\", \"{X[c].dtype.name}\" given')\n",
        "      self.columns[c] = []\n",
        "      for i in X[c].cat.categories:\n",
        "        self.columns[c].append(i)\n",
        "    \n",
        "    self.X = X.copy()\n",
        "    self.Y = Y.copy()\n",
        "    # self.rules_size += len(self.classes)\n",
        "    for key in self.columns:\n",
        "      self.rules_size += len(self.columns[key])\n",
        "\n",
        "    self.convert_rules()\n",
        "\n",
        "    self.proccess_rules()\n",
        "\n",
        "\n",
        "  \n",
        "  def proccess_rules(self):\n",
        "    for c in self.classes:\n",
        "      extant_rules = self.rules[c].copy()\n",
        "      extant_rules = [[i,0] for i in extant_rules]\n",
        "      for i in range(len(extant_rules)):\n",
        "        for j in range(i+1, len(extant_rules)):\n",
        "          if extant_rules[i][1] == 0 and extant_rules[j][1] == 0:\n",
        "            composed_rule = self.composition(extant_rules[i][0], extant_rules[j][0])\n",
        "            if self.fitness(composed_rule, c) > self.fitness(extant_rules[i][0], c) and self.fitness(composed_rule, c) > self.fitness(extant_rules[j][0], c):\n",
        "              extant_rules[i][0] = composed_rule\n",
        "              extant_rules[j][1] = 1\n",
        "              for x in range(len(extant_rules)):\n",
        "                if x != i and self.rule_covers(composed_rule, extant_rules[x][0]):\n",
        "                  extant_rules[x][1] = 1\n",
        "      \n",
        "      for i in range(len(extant_rules)):\n",
        "        if extant_rules[i][1] == 0:\n",
        "          extant_rules[i][0] = self.generalize(extant_rules[i][0], c)\n",
        "      \n",
        "      final = sorted(extant_rules, key=lambda x: self.fitness(x[0], c), reverse=True)\n",
        "      self.final_rules[c] = [[i[0], self.fitness(i[0], c)] for i in final if i[1] == 0]\n",
        "      # self.final_rules[c] = final.copy()\n",
        "\n",
        "  \n",
        "  def predict(self, X):\n",
        "    cols = X.columns.copy()\n",
        "    Y = []\n",
        "    for c in cols:\n",
        "      if X[c].dtype.name != \"category\":\n",
        "        raise ValueError(f'All columns must be of type \"category\", \"{X[c].dtype.name}\" given')\n",
        "    \n",
        "    for i in range(X.shape[0]):\n",
        "      rule = self.generate_rule(X.iloc[i])\n",
        "      rules = []\n",
        "      for c in self.classes:\n",
        "        for j in range(len(self.final_rules[c])):\n",
        "          if self.rule_covers(self.final_rules[c][j][0], rule):\n",
        "            rules.append([c, self.final_rules[c][j][1], j])\n",
        "      rules.sort(key=operator.itemgetter(1, 2), reverse=True)\n",
        "      if len(rules)==0:\n",
        "        Y.append(-1)\n",
        "        continue\n",
        "      Y.append(rules[0][0])\n",
        "    \n",
        "    return Y\n",
        "\n",
        "    \n",
        "  def generalize(self, rule, c):\n",
        "    for i in range(len(rule)):\n",
        "      if rule[i] == 0:\n",
        "        new_rule = rule\n",
        "        new_rule[i] = 1\n",
        "        if self.fitness(new_rule, c) > self.fitness(rule, c):\n",
        "          rule = new_rule\n",
        "    return rule\n",
        "\n",
        "  def composition(self, rule1, rule2):\n",
        "    result = \"\"\n",
        "    for i in range(self.rules_size):\n",
        "      if rule1[i] == \"1\" or rule2[i] == \"1\":\n",
        "        result += \"1\"\n",
        "      else:\n",
        "        result += \"0\"\n",
        "    \n",
        "    return result\n",
        "  \n",
        "  def fitness(self, rule, cls):\n",
        "    return self.alpha * self.accuracy(rule, cls) + self.beta * self.coverage(rule)\n",
        "  \n",
        "  def accuracy(self, rule, cls):\n",
        "    return self.n_correct(rule, cls) / self.n_covers(rule)\n",
        "  \n",
        "  def coverage(self, rule):\n",
        "    return self.n_covers(rule) / self.d_size\n",
        "\n",
        "  def n_correct(self, rule1, cls):\n",
        "    num = 0\n",
        "    for rule in self.rules[cls]:\n",
        "      correct = True\n",
        "      for i in range(self.rules_size):\n",
        "        if rule1[i] != rule[i] and rule1[i] == \"0\":\n",
        "          correct = False\n",
        "      if correct:\n",
        "        num += 1\n",
        "    \n",
        "    return num\n",
        "\n",
        "  def n_covers(self, rule1):\n",
        "    num = 0\n",
        "    for cls in self.classes:\n",
        "      for rule in self.rules[cls]:\n",
        "        correct = True\n",
        "        for i in range(self.rules_size):\n",
        "          if rule1[i] != rule[i] and rule1[i] == \"0\":\n",
        "            correct = False\n",
        "        if correct:\n",
        "          num += 1\n",
        "    \n",
        "    return num\n",
        "\n",
        "\n",
        "  def rule_covers(self, rule1, rule2):\n",
        "    for i in range(self.rules_size):\n",
        "      if rule2[i] == \"1\" and rule1[i] == \"0\":\n",
        "        return False\n",
        "    return True\n",
        "\n",
        "\n",
        "  def convert_rules(self):\n",
        "    for i in range(self.X.shape[0]):\n",
        "      self.generate_rules(self.X.iloc[i], self.Y.iloc[i])\n",
        "\n",
        "  def generate_rule(self, input):\n",
        "    rule = \"\"\n",
        "    for key in self.columns:\n",
        "      sub_rule = \"\"\n",
        "      for i in self.columns[key]:\n",
        "        if i == input[key]:\n",
        "          sub_rule += \"1\"\n",
        "        else:\n",
        "          sub_rule += \"0\"\n",
        "      rule += sub_rule\n",
        "    return rule\n",
        "  \n",
        "  def generate_rules(self, input, output):\n",
        "    rule = \"\"\n",
        "    for key in self.columns:\n",
        "      sub_rule = \"\"\n",
        "      for i in self.columns[key]:\n",
        "        if i == input[key]:\n",
        "          sub_rule += \"1\"\n",
        "        else:\n",
        "          sub_rule += \"0\"\n",
        "      rule += sub_rule\n",
        "    rule_class = None\n",
        "    for i in self.classes:\n",
        "      if (i == output).bool():\n",
        "        rule_class = i\n",
        "\n",
        "    \n",
        "    #self.rules[rule_class].append(rule)\n",
        "    self.rules[rule_class].append(rule)\n",
        "  def get_final_rules(self):\n",
        "    return self.final_rules\n",
        "\n"
      ],
      "metadata": {
        "id": "_SoY79ECdLtB"
      },
      "execution_count": 11,
      "outputs": []
    },
    {
      "cell_type": "code",
      "source": [
        "#====================================================\n",
        "machines = [XRacer.remote(alpha=0.7,beta=0.3,X=X[i],Y=Y[i]) for i in range(n)]\n",
        "machines"
      ],
      "metadata": {
        "colab": {
          "base_uri": "https://localhost:8080/"
        },
        "id": "6t-6Ae_hoJdN",
        "outputId": "b39f64ae-4d82-4cfc-a577-9db346849137"
      },
      "execution_count": 12,
      "outputs": [
        {
          "output_type": "execute_result",
          "data": {
            "text/plain": [
              "[Actor(XRacer, ff0bbe2b84b629ef5efcc2ea01000000),\n",
              " Actor(XRacer, 83b6771a4d6faab1ea3b378301000000),\n",
              " Actor(XRacer, e1116b7758a9dbe6535dae2301000000),\n",
              " Actor(XRacer, e7b6a7ff77b267ae412c9fed01000000)]"
            ]
          },
          "metadata": {},
          "execution_count": 12
        }
      ]
    },
    {
      "cell_type": "markdown",
      "source": [
        "**Call fit function**"
      ],
      "metadata": {
        "id": "__Qz_RobhfeR"
      }
    },
    {
      "cell_type": "code",
      "source": [
        "start_time = time.time() \n",
        "#ray.get(machines[1].fit.remote())\n",
        "ray.get([m.fit.remote() for m in machines])\n"
      ],
      "metadata": {
        "colab": {
          "base_uri": "https://localhost:8080/"
        },
        "id": "HgpOT8R-QLyK",
        "outputId": "0bc7f6a4-6bbb-4c91-93dd-e466371f3ada"
      },
      "execution_count": 13,
      "outputs": [
        {
          "output_type": "execute_result",
          "data": {
            "text/plain": [
              "[None, None, None, None]"
            ]
          },
          "metadata": {},
          "execution_count": 13
        }
      ]
    },
    {
      "cell_type": "code",
      "source": [
        "#racer = Racer(alpha=0.7,beta=0.3,X=X[0],Y=Y[0])"
      ],
      "metadata": {
        "id": "TBKnWKeyoqRZ"
      },
      "execution_count": 14,
      "outputs": []
    },
    {
      "cell_type": "code",
      "source": [
        "rules = ray.get([m.get_final_rules.remote() for m in machines])\n",
        "rules.append(rules_ten)\n",
        "classes = Aracer.classes\n",
        "rules_aggrigated = {}\n",
        "for cls in classes:\n",
        "  rules_aggrigated[cls] = []\n",
        "  for j,c in enumerate(rules):\n",
        "    rules_aggrigated[cls].append(rules[j][cls])\n",
        "final_rules = {}\n",
        "for c in rules_aggrigated:\n",
        "  final_rules[c] = []\n",
        "  for l,i in enumerate(rules_aggrigated[c]):\n",
        "    for r in rules_aggrigated[c][l]:\n",
        "      final_rules[c].append(r[0]) \n",
        "\n",
        "####################################     \n",
        "total_rules = 0\n",
        "for c in final_rules:\n",
        "  total_rules = total_rules+len(final_rules[c])\n",
        "total_rules"
      ],
      "metadata": {
        "colab": {
          "base_uri": "https://localhost:8080/"
        },
        "id": "vjfjY87ggipy",
        "outputId": "78f92e12-803e-4e18-a273-435fd321f875"
      },
      "execution_count": 15,
      "outputs": [
        {
          "output_type": "execute_result",
          "data": {
            "text/plain": [
              "166"
            ]
          },
          "metadata": {},
          "execution_count": 15
        }
      ]
    },
    {
      "cell_type": "code",
      "source": [
        "MRacer = Racer(alpha=0.7,beta=0.3)\n",
        "MRacer.rules = final_rules\n",
        "MRacer.classes = classes\n",
        "MRacer.d_size = total_rules\n",
        "MRacer.proccess_rules()\n",
        "response_time = time.time() - start_time\n",
        "Y_pred = MRacer.predict(X_all)\n",
        "print(\"Accuracy in distributed mode : %.2f %%\" % (accuracy_score(Y_pred, Y_all)*100))\n",
        "print(\"Response time in distributed mode : %.2f\" % (response_time))\n",
        "Y_pred = Aracer.predict(X_ten)\n",
        "print(\"Accuracy in traditional mode : %.2f %%\" % (accuracy_score(Y_pred, Y_ten)*100))\n",
        "print(\"Response time in traditional mode : %.2f\" % (response_time_traditional))"
      ],
      "metadata": {
        "colab": {
          "base_uri": "https://localhost:8080/"
        },
        "id": "8UxpZ72_8hvp",
        "outputId": "ae26d694-528c-40b2-fc7a-e638fd968455"
      },
      "execution_count": 16,
      "outputs": [
        {
          "output_type": "stream",
          "name": "stdout",
          "text": [
            "Accuracy in distributed mode : 22.24 %\n",
            "Response time in distributed mode : 34.39\n",
            "Accuracy in traditional mode : 100.00 %\n",
            "Response time in traditional mode : 152.17\n"
          ]
        }
      ]
    }
  ]
}